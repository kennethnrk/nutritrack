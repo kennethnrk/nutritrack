{
 "cells": [
  {
   "cell_type": "code",
   "execution_count": 1,
   "outputs": [],
   "source": [
    "import dotenv\n",
    "import os\n",
    "from pymongo.mongo_client import MongoClient\n",
    "from pymongo.server_api import ServerApi"
   ],
   "metadata": {
    "collapsed": false
   }
  },
  {
   "cell_type": "code",
   "execution_count": 2,
   "metadata": {
    "collapsed": true
   },
   "outputs": [],
   "source": [
    "dotenv.load_dotenv()\n",
    "\n",
    "uri = os.environ.get('MONGO_URI')\n",
    "client = MongoClient(uri, server_api=ServerApi('1'))\n",
    "db = client.Nutritrack"
   ]
  },
  {
   "cell_type": "code",
   "execution_count": 1,
   "outputs": [],
   "source": [
    "import pandas as pd\n",
    "import numpy as np"
   ],
   "metadata": {
    "collapsed": false
   }
  },
  {
   "cell_type": "code",
   "execution_count": 4,
   "outputs": [],
   "source": [
    "nutrition = pd.read_csv('nutrition.csv')"
   ],
   "metadata": {
    "collapsed": false
   }
  },
  {
   "cell_type": "code",
   "execution_count": 5,
   "outputs": [
    {
     "data": {
      "text/plain": "              name serving_size  calories total_fat saturated_fat cholesterol  \\\n0       Cornstarch        100 g       381      0.1g           NaN           0   \n1     Nuts, pecans        100 g       691       72g          6.2g           0   \n2    Eggplant, raw        100 g        25      0.2g           NaN           0   \n3   Teff, uncooked        100 g       367      2.4g          0.4g           0   \n4  Sherbet, orange        100 g       144        2g          1.2g         1mg   \n\n     sodium  choline     folate folic_acid  ...      fat  \\\n0   9.00 mg   0.4 mg   0.00 mcg   0.00 mcg  ...   0.05 g   \n1   0.00 mg  40.5 mg  22.00 mcg   0.00 mcg  ...  71.97 g   \n2   2.00 mg   6.9 mg  22.00 mcg   0.00 mcg  ...   0.18 g   \n3  12.00 mg  13.1 mg          0          0  ...   2.38 g   \n4  46.00 mg   7.7 mg   4.00 mcg   0.00 mcg  ...   2.00 g   \n\n  saturated_fatty_acids monounsaturated_fatty_acids  \\\n0               0.009 g                     0.016 g   \n1               6.180 g                    40.801 g   \n2               0.034 g                     0.016 g   \n3               0.449 g                     0.589 g   \n4               1.160 g                     0.530 g   \n\n  polyunsaturated_fatty_acids fatty_acids_total_trans alcohol     ash  \\\n0                     0.025 g                 0.00 mg   0.0 g  0.09 g   \n1                    21.614 g                 0.00 mg   0.0 g  1.49 g   \n2                     0.076 g                 0.00 mg   0.0 g  0.66 g   \n3                     1.071 g                       0       0  2.37 g   \n4                     0.080 g                 1.00 mg   0.0 g  0.40 g   \n\n  caffeine theobromine    water  \n0  0.00 mg     0.00 mg   8.32 g  \n1  0.00 mg     0.00 mg   3.52 g  \n2  0.00 mg     0.00 mg  92.30 g  \n3        0           0   8.82 g  \n4  0.00 mg     0.00 mg  66.10 g  \n\n[5 rows x 76 columns]",
      "text/html": "<div>\n<style scoped>\n    .dataframe tbody tr th:only-of-type {\n        vertical-align: middle;\n    }\n\n    .dataframe tbody tr th {\n        vertical-align: top;\n    }\n\n    .dataframe thead th {\n        text-align: right;\n    }\n</style>\n<table border=\"1\" class=\"dataframe\">\n  <thead>\n    <tr style=\"text-align: right;\">\n      <th></th>\n      <th>name</th>\n      <th>serving_size</th>\n      <th>calories</th>\n      <th>total_fat</th>\n      <th>saturated_fat</th>\n      <th>cholesterol</th>\n      <th>sodium</th>\n      <th>choline</th>\n      <th>folate</th>\n      <th>folic_acid</th>\n      <th>...</th>\n      <th>fat</th>\n      <th>saturated_fatty_acids</th>\n      <th>monounsaturated_fatty_acids</th>\n      <th>polyunsaturated_fatty_acids</th>\n      <th>fatty_acids_total_trans</th>\n      <th>alcohol</th>\n      <th>ash</th>\n      <th>caffeine</th>\n      <th>theobromine</th>\n      <th>water</th>\n    </tr>\n  </thead>\n  <tbody>\n    <tr>\n      <th>0</th>\n      <td>Cornstarch</td>\n      <td>100 g</td>\n      <td>381</td>\n      <td>0.1g</td>\n      <td>NaN</td>\n      <td>0</td>\n      <td>9.00 mg</td>\n      <td>0.4 mg</td>\n      <td>0.00 mcg</td>\n      <td>0.00 mcg</td>\n      <td>...</td>\n      <td>0.05 g</td>\n      <td>0.009 g</td>\n      <td>0.016 g</td>\n      <td>0.025 g</td>\n      <td>0.00 mg</td>\n      <td>0.0 g</td>\n      <td>0.09 g</td>\n      <td>0.00 mg</td>\n      <td>0.00 mg</td>\n      <td>8.32 g</td>\n    </tr>\n    <tr>\n      <th>1</th>\n      <td>Nuts, pecans</td>\n      <td>100 g</td>\n      <td>691</td>\n      <td>72g</td>\n      <td>6.2g</td>\n      <td>0</td>\n      <td>0.00 mg</td>\n      <td>40.5 mg</td>\n      <td>22.00 mcg</td>\n      <td>0.00 mcg</td>\n      <td>...</td>\n      <td>71.97 g</td>\n      <td>6.180 g</td>\n      <td>40.801 g</td>\n      <td>21.614 g</td>\n      <td>0.00 mg</td>\n      <td>0.0 g</td>\n      <td>1.49 g</td>\n      <td>0.00 mg</td>\n      <td>0.00 mg</td>\n      <td>3.52 g</td>\n    </tr>\n    <tr>\n      <th>2</th>\n      <td>Eggplant, raw</td>\n      <td>100 g</td>\n      <td>25</td>\n      <td>0.2g</td>\n      <td>NaN</td>\n      <td>0</td>\n      <td>2.00 mg</td>\n      <td>6.9 mg</td>\n      <td>22.00 mcg</td>\n      <td>0.00 mcg</td>\n      <td>...</td>\n      <td>0.18 g</td>\n      <td>0.034 g</td>\n      <td>0.016 g</td>\n      <td>0.076 g</td>\n      <td>0.00 mg</td>\n      <td>0.0 g</td>\n      <td>0.66 g</td>\n      <td>0.00 mg</td>\n      <td>0.00 mg</td>\n      <td>92.30 g</td>\n    </tr>\n    <tr>\n      <th>3</th>\n      <td>Teff, uncooked</td>\n      <td>100 g</td>\n      <td>367</td>\n      <td>2.4g</td>\n      <td>0.4g</td>\n      <td>0</td>\n      <td>12.00 mg</td>\n      <td>13.1 mg</td>\n      <td>0</td>\n      <td>0</td>\n      <td>...</td>\n      <td>2.38 g</td>\n      <td>0.449 g</td>\n      <td>0.589 g</td>\n      <td>1.071 g</td>\n      <td>0</td>\n      <td>0</td>\n      <td>2.37 g</td>\n      <td>0</td>\n      <td>0</td>\n      <td>8.82 g</td>\n    </tr>\n    <tr>\n      <th>4</th>\n      <td>Sherbet, orange</td>\n      <td>100 g</td>\n      <td>144</td>\n      <td>2g</td>\n      <td>1.2g</td>\n      <td>1mg</td>\n      <td>46.00 mg</td>\n      <td>7.7 mg</td>\n      <td>4.00 mcg</td>\n      <td>0.00 mcg</td>\n      <td>...</td>\n      <td>2.00 g</td>\n      <td>1.160 g</td>\n      <td>0.530 g</td>\n      <td>0.080 g</td>\n      <td>1.00 mg</td>\n      <td>0.0 g</td>\n      <td>0.40 g</td>\n      <td>0.00 mg</td>\n      <td>0.00 mg</td>\n      <td>66.10 g</td>\n    </tr>\n  </tbody>\n</table>\n<p>5 rows × 76 columns</p>\n</div>"
     },
     "execution_count": 5,
     "metadata": {},
     "output_type": "execute_result"
    }
   ],
   "source": [
    "nutrition = nutrition.drop(columns=[\"Unnamed: 0\"])\n",
    "nutrition.head()"
   ],
   "metadata": {
    "collapsed": false
   }
  },
  {
   "cell_type": "code",
   "execution_count": 6,
   "outputs": [],
   "source": [
    "nutrition = nutrition[['name', 'calories','serving_size', 'total_fat', 'sodium', 'carbohydrate', 'calcium', 'protein', 'fiber', 'sugars']]"
   ],
   "metadata": {
    "collapsed": false
   }
  },
  {
   "cell_type": "code",
   "execution_count": 7,
   "outputs": [],
   "source": [
    "nutrition = nutrition.to_dict('records')"
   ],
   "metadata": {
    "collapsed": false
   }
  },
  {
   "cell_type": "code",
   "execution_count": 40,
   "outputs": [
    {
     "data": {
      "text/plain": "<pymongo.results.InsertManyResult at 0x191539a4f40>"
     },
     "execution_count": 40,
     "metadata": {},
     "output_type": "execute_result"
    }
   ],
   "source": [
    "db.items.insert_many(nutrition)"
   ],
   "metadata": {
    "collapsed": false
   }
  },
  {
   "cell_type": "code",
   "execution_count": 8,
   "outputs": [
    {
     "data": {
      "text/plain": "[{'name': 'Cornstarch',\n  'calories': 381,\n  'serving_size': '100 g',\n  'total_fat': '0.1g',\n  'sodium': '9.00 mg',\n  'carbohydrate': '91.27 g',\n  'calcium': '2.00 mg',\n  'protein': '0.26 g',\n  'fiber': '0.9 g',\n  'sugars': '0.00 g'},\n {'name': 'Nuts, pecans',\n  'calories': 691,\n  'serving_size': '100 g',\n  'total_fat': '72g',\n  'sodium': '0.00 mg',\n  'carbohydrate': '13.86 g',\n  'calcium': '70.00 mg',\n  'protein': '9.17 g',\n  'fiber': '9.6 g',\n  'sugars': '3.97 g'},\n {'name': 'Eggplant, raw',\n  'calories': 25,\n  'serving_size': '100 g',\n  'total_fat': '0.2g',\n  'sodium': '2.00 mg',\n  'carbohydrate': '5.88 g',\n  'calcium': '9.00 mg',\n  'protein': '0.98 g',\n  'fiber': '3.0 g',\n  'sugars': '3.53 g'},\n {'name': 'Teff, uncooked',\n  'calories': 367,\n  'serving_size': '100 g',\n  'total_fat': '2.4g',\n  'sodium': '12.00 mg',\n  'carbohydrate': '73.13 g',\n  'calcium': '180.00 mg',\n  'protein': '13.30 g',\n  'fiber': '8.0 g',\n  'sugars': '1.84 g'},\n {'name': 'Sherbet, orange',\n  'calories': 144,\n  'serving_size': '100 g',\n  'total_fat': '2g',\n  'sodium': '46.00 mg',\n  'carbohydrate': '30.40 g',\n  'calcium': '54.00 mg',\n  'protein': '1.10 g',\n  'fiber': '1.3 g',\n  'sugars': '24.32 g'},\n {'name': 'Cauliflower, raw',\n  'calories': 25,\n  'serving_size': '100 g',\n  'total_fat': '0.3g',\n  'sodium': '30.00 mg',\n  'carbohydrate': '4.97 g',\n  'calcium': '22.00 mg',\n  'protein': '1.92 g',\n  'fiber': '2.0 g',\n  'sugars': '1.91 g'},\n {'name': 'Taro leaves, raw',\n  'calories': 42,\n  'serving_size': '100 g',\n  'total_fat': '0.7g',\n  'sodium': '3.00 mg',\n  'carbohydrate': '6.70 g',\n  'calcium': '107.00 mg',\n  'protein': '4.98 g',\n  'fiber': '3.7 g',\n  'sugars': '3.01 g'},\n {'name': 'Lamb, raw, ground',\n  'calories': 282,\n  'serving_size': '100 g',\n  'total_fat': '23g',\n  'sodium': '59.00 mg',\n  'carbohydrate': '0.00 g',\n  'calcium': '16.00 mg',\n  'protein': '16.56 g',\n  'fiber': '0.0 g',\n  'sugars': '0.00 g'},\n {'name': 'Cheese, camembert',\n  'calories': 300,\n  'serving_size': '100 g',\n  'total_fat': '24g',\n  'sodium': '842.00 mg',\n  'carbohydrate': '0.46 g',\n  'calcium': '388.00 mg',\n  'protein': '19.80 g',\n  'fiber': '0.0 g',\n  'sugars': '0.46 g'},\n {'name': 'Vegetarian fillets',\n  'calories': 290,\n  'serving_size': '100 g',\n  'total_fat': '18g',\n  'sodium': '490.00 mg',\n  'carbohydrate': '9.00 g',\n  'calcium': '95.00 mg',\n  'protein': '23.00 g',\n  'fiber': '6.1 g',\n  'sugars': '0.80 g'},\n {'name': 'PACE, Picante Sauce',\n  'calories': 25,\n  'serving_size': '100 g',\n  'total_fat': '0g',\n  'sodium': '781.00 mg',\n  'carbohydrate': '6.25 g',\n  'calcium': '0',\n  'protein': '0.00 g',\n  'fiber': '3.1 g',\n  'sugars': '6.25 g'},\n {'name': 'Goji berries, dried',\n  'calories': 349,\n  'serving_size': '100 g',\n  'total_fat': '0.4g',\n  'sodium': '298.00 mg',\n  'carbohydrate': '77.06 g',\n  'calcium': '190.00 mg',\n  'protein': '14.26 g',\n  'fiber': '13.0 g',\n  'sugars': '45.61 g'},\n {'name': 'Mango nectar, canned',\n  'calories': 51,\n  'serving_size': '100 g',\n  'total_fat': '0.1g',\n  'sodium': '5.00 mg',\n  'carbohydrate': '13.12 g',\n  'calcium': '17.00 mg',\n  'protein': '0.11 g',\n  'fiber': '0.3 g',\n  'sugars': '12.45 g'},\n {'name': 'Crackers, rusk toast',\n  'calories': 407,\n  'serving_size': '100 g',\n  'total_fat': '7.2g',\n  'sodium': '253.00 mg',\n  'carbohydrate': '72.30 g',\n  'calcium': '27.00 mg',\n  'protein': '13.50 g',\n  'fiber': '0',\n  'sugars': '0'},\n {'name': 'Chicken, boiled, feet',\n  'calories': 215,\n  'serving_size': '100 g',\n  'total_fat': '15g',\n  'sodium': '67.00 mg',\n  'carbohydrate': '0.20 g',\n  'calcium': '88.00 mg',\n  'protein': '19.40 g',\n  'fiber': '0.0 g',\n  'sugars': '0.00 g'},\n {'name': 'Quail, raw, meat only',\n  'calories': 134,\n  'serving_size': '100 g',\n  'total_fat': '4.5g',\n  'sodium': '51.00 mg',\n  'carbohydrate': '0.00 g',\n  'calcium': '13.00 mg',\n  'protein': '21.76 g',\n  'fiber': '0.0 g',\n  'sugars': '0'},\n {'name': 'Pie, lemon, fried pies',\n  'calories': 316,\n  'serving_size': '100 g',\n  'total_fat': '16g',\n  'sodium': '374.00 mg',\n  'carbohydrate': '42.60 g',\n  'calcium': '22.00 mg',\n  'protein': '3.00 g',\n  'fiber': '2.6 g',\n  'sugars': '0'},\n {'name': 'Peppers, raw, jalapeno',\n  'calories': 29,\n  'serving_size': '100 g',\n  'total_fat': '0.4g',\n  'sodium': '3.00 mg',\n  'carbohydrate': '6.50 g',\n  'calcium': '12.00 mg',\n  'protein': '0.91 g',\n  'fiber': '2.8 g',\n  'sugars': '4.12 g'},\n {'name': 'Winged bean tuber, raw',\n  'calories': 148,\n  'serving_size': '100 g',\n  'total_fat': '0.9g',\n  'sodium': '35.00 mg',\n  'carbohydrate': '28.10 g',\n  'calcium': '30.00 mg',\n  'protein': '11.60 g',\n  'fiber': '0',\n  'sugars': '0'},\n {'name': 'Salami, turkey, cooked',\n  'calories': 172,\n  'serving_size': '100 g',\n  'total_fat': '9.2g',\n  'sodium': '1107.00 mg',\n  'carbohydrate': '1.55 g',\n  'calcium': '40.00 mg',\n  'protein': '19.20 g',\n  'fiber': '0.1 g',\n  'sugars': '1.12 g'}]"
     },
     "execution_count": 8,
     "metadata": {},
     "output_type": "execute_result"
    }
   ],
   "source": [
    "nutrition[:20]"
   ],
   "metadata": {
    "collapsed": false
   }
  },
  {
   "cell_type": "code",
   "execution_count": 11,
   "outputs": [],
   "source": [
    "import json\n",
    "\n",
    "with open('output.txt', 'w') as filehandle:\n",
    "    json.dump(nutrition[0:50], filehandle)"
   ],
   "metadata": {
    "collapsed": false
   }
  },
  {
   "cell_type": "code",
   "execution_count": null,
   "outputs": [],
   "source": [
    "|"
   ],
   "metadata": {
    "collapsed": false
   }
  }
 ],
 "metadata": {
  "kernelspec": {
   "display_name": "Python 3",
   "language": "python",
   "name": "python3"
  },
  "language_info": {
   "codemirror_mode": {
    "name": "ipython",
    "version": 2
   },
   "file_extension": ".py",
   "mimetype": "text/x-python",
   "name": "python",
   "nbconvert_exporter": "python",
   "pygments_lexer": "ipython2",
   "version": "2.7.6"
  }
 },
 "nbformat": 4,
 "nbformat_minor": 0
}
